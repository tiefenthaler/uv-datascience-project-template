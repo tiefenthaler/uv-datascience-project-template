{
 "cells": [
  {
   "cell_type": "markdown",
   "metadata": {},
   "source": [
    "# Jupyter Notebook - App\n",
    "\n",
    "This notebook demonstrates how to use the LitAutoEncoder model interactively, without deploying a FastAPI server. You can train the model and generate embeddings for fake images directly in this notebook. This is useful for experimentation, prototyping, and understanding the workflow before production deployment."
   ]
  },
  {
   "cell_type": "markdown",
   "metadata": {},
   "source": [
    "## Run Application Interactively (No FastAPI)\n",
    "\n",
    "Use this notebook to train and test the autoencoder model in a Jupyter environment. All steps are self-contained."
   ]
  },
  {
   "cell_type": "code",
   "execution_count": null,
   "metadata": {},
   "outputs": [],
   "source": [
    "import warnings\n",
    "from typing import List, Tuple\n",
    "\n",
    "from pydantic import BaseModel, Field\n",
    "from torch import rand\n",
    "from torch.nn import Sequential\n",
    "from typing_extensions import Annotated\n",
    "\n",
    "from uv_datascience_project_template.lit_auto_encoder import LitAutoEncoder\n",
    "from uv_datascience_project_template.train_autoencoder import train_litautoencoder\n",
    "\n",
    "warnings.filterwarnings(\"ignore\")"
   ]
  },
  {
   "cell_type": "code",
   "execution_count": null,
   "metadata": {},
   "outputs": [],
   "source": [
    "# Input validation model\n",
    "class NumberFakeImages(BaseModel):\n",
    "    n_fake_images: Annotated[int, Field(ge=1, le=10)]  # type: ignore # Between 1 and 10 fake images allowed"
   ]
  },
  {
   "cell_type": "markdown",
   "metadata": {},
   "source": [
    "## Train the Model\n",
    "\n",
    "This step initializes and trains the autoencoder on the MNIST dataset. The encoder and decoder will be returned for further use."
   ]
  },
  {
   "cell_type": "code",
   "execution_count": null,
   "metadata": {},
   "outputs": [],
   "source": [
    "def train_model() -> Tuple[Sequential, Sequential]:\n",
    "    \"\"\"Train the autoencoder model.\n",
    "\n",
    "    Returns:\n",
    "        tuple[Sequential, Sequential]: Encoder and decoder models.\n",
    "    \"\"\"\n",
    "\n",
    "    encoder, decoder, _is_model_trained = train_litautoencoder()\n",
    "    return encoder, decoder"
   ]
  },
  {
   "cell_type": "code",
   "execution_count": null,
   "metadata": {},
   "outputs": [
    {
     "name": "stderr",
     "output_type": "stream",
     "text": [
      "GPU available: True (mps), used: True\n",
      "TPU available: False, using: 0 TPU cores\n",
      "HPU available: False, using: 0 HPUs\n",
      "\n",
      "  | Name    | Type       | Params | Mode \n",
      "-----------------------------------------------\n",
      "0 | encoder | Sequential | 50.4 K | train\n",
      "1 | decoder | Sequential | 51.2 K | train\n",
      "-----------------------------------------------\n",
      "101 K     Trainable params\n",
      "0         Non-trainable params\n",
      "101 K     Total params\n",
      "0.407     Total estimated model params size (MB)\n",
      "8         Modules in train mode\n",
      "0         Modules in eval mode\n"
     ]
    },
    {
     "name": "stdout",
     "output_type": "stream",
     "text": [
      "Epoch 0: 100%|██████████| 100/100 [00:00<00:00, 203.43it/s, v_num=80]"
     ]
    },
    {
     "name": "stderr",
     "output_type": "stream",
     "text": [
      "`Trainer.fit` stopped: `max_epochs=1` reached.\n"
     ]
    },
    {
     "name": "stdout",
     "output_type": "stream",
     "text": [
      "Epoch 0: 100%|██████████| 100/100 [00:00<00:00, 198.91it/s, v_num=80]\n"
     ]
    }
   ],
   "source": [
    "# Train encoder and decoder\n",
    "encoder, decoder = train_model()"
   ]
  },
  {
   "cell_type": "markdown",
   "metadata": {},
   "source": [
    "## Create Embeddings\n",
    "\n",
    "Generate embeddings for a batch of fake images using the trained encoder. The output is a list of latent vectors representing the input images."
   ]
  },
  {
   "cell_type": "code",
   "execution_count": null,
   "metadata": {},
   "outputs": [],
   "source": [
    "def create_embed(\n",
    "    input_data: NumberFakeImages, encoder: Sequential, decoder: Sequential, checkpoint_path: str\n",
    ") -> List[List[float]]:\n",
    "    \"\"\"Embed fake images using the trained autoencoder.\n",
    "\n",
    "    Args:\n",
    "        input_data (NumberFakeImages): Input data containing the number of fake images to embed.\n",
    "        encoder (Sequential): Encoder model.\n",
    "        decoder (Sequential): Decoder model.\n",
    "        checkpoint_path (str): Path to the checkpoint file.\n",
    "\n",
    "    Returns:\n",
    "        List[List[float]]: A list containing the embeddings of each fake images as a list.\n",
    "    \"\"\"\n",
    "\n",
    "    n_fake_images = input_data.n_fake_images\n",
    "\n",
    "    # Load the trained autoencoder from the checkpoint\n",
    "    autoencoder = LitAutoEncoder.load_from_checkpoint(\n",
    "        checkpoint_path, encoder=encoder, decoder=decoder\n",
    "    )\n",
    "    encoder_model = autoencoder.encoder\n",
    "    encoder_model.eval()\n",
    "\n",
    "    # Generate fake image embeddings based on user input\n",
    "    fake_image_batch = rand(n_fake_images, 28 * 28, device=autoencoder.device)\n",
    "    embeddings = encoder_model(fake_image_batch)\n",
    "\n",
    "    return embeddings.tolist()"
   ]
  },
  {
   "cell_type": "code",
   "execution_count": null,
   "metadata": {},
   "outputs": [
    {
     "name": "stdout",
     "output_type": "stream",
     "text": [
      "⚡⚡⚡⚡⚡⚡⚡⚡⚡⚡⚡⚡⚡⚡⚡⚡⚡⚡⚡⚡\n",
      "Predictions (image embeddings):\n",
      "[[0.3581562042236328, 0.14595450460910797, 0.47827404737472534], [0.5079143643379211, 0.09660176187753677, 0.5766311287879944]]\n",
      "⚡⚡⚡⚡⚡⚡⚡⚡⚡⚡⚡⚡⚡⚡⚡⚡⚡⚡⚡⚡\n"
     ]
    }
   ],
   "source": [
    "# Create embeddings\n",
    "embeddings = create_embed(\n",
    "    NumberFakeImages(n_fake_images=2),\n",
    "    encoder,\n",
    "    decoder,\n",
    "    checkpoint_path=\"./lightning_logs/LitAutoEncoder/version_0/checkpoints/epoch=0-step=100.ckpt\",\n",
    ")\n",
    "\n",
    "# Print the embeddings\n",
    "print(\"⚡\" * 20, \"\\nPredictions (image embeddings):\\n\", embeddings, \"\\n\", \"⚡\" * 20, sep=\"\")"
   ]
  },
  {
   "cell_type": "code",
   "execution_count": null,
   "metadata": {},
   "outputs": [],
   "source": []
  }
 ],
 "metadata": {
  "kernelspec": {
   "display_name": ".venv",
   "language": "python",
   "name": "python3"
  },
  "language_info": {
   "codemirror_mode": {
    "name": "ipython",
    "version": 3
   },
   "file_extension": ".py",
   "mimetype": "text/x-python",
   "name": "python",
   "nbconvert_exporter": "python",
   "pygments_lexer": "ipython3",
   "version": "3.12.0"
  }
 },
 "nbformat": 4,
 "nbformat_minor": 2
}
